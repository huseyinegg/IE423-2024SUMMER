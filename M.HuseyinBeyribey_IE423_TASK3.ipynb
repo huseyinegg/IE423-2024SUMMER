{
  "nbformat": 4,
  "nbformat_minor": 0,
  "metadata": {
    "colab": {
      "provenance": []
    },
    "kernelspec": {
      "name": "python3",
      "display_name": "Python 3"
    },
    "language_info": {
      "name": "python"
    }
  },
  "cells": [
    {
      "cell_type": "markdown",
      "source": [
        "<a target=\"_blank\" href=\"https://colab.research.google.com/github/huseyinegg/IE423-2024SUMMER/blob/main/M.HuseyinBeyribey_IE423_TASK3.ipynb\">\n",
        "  <img src=\"https://colab.research.google.com/assets/colab-badge.svg\" alt=\"Open In Colab\"/>\n",
        "</a>"
      ],
      "metadata": {
        "id": "RnjPMn4Hx-3n"
      }
    },
    {
      "cell_type": "code",
      "source": [
        "import pandas as pd\n",
        "import numpy as np\n",
        "import matplotlib.pyplot as plt\n",
        "import seaborn as sns\n",
        "\n",
        "from google.colab import drive\n",
        "drive.mount('/content/drive')\n",
        "\n",
        "import warnings\n",
        "warnings.filterwarnings('ignore')"
      ],
      "metadata": {
        "colab": {
          "base_uri": "https://localhost:8080/"
        },
        "id": "HgnTvlOxyC43",
        "outputId": "95fc2d7d-2a40-4853-a9ac-94be37f697ee"
      },
      "execution_count": 206,
      "outputs": [
        {
          "output_type": "stream",
          "name": "stdout",
          "text": [
            "Drive already mounted at /content/drive; to attempt to forcibly remount, call drive.mount(\"/content/drive\", force_remount=True).\n"
          ]
        }
      ]
    },
    {
      "cell_type": "markdown",
      "source": [
        "# Load The Data\n",
        "\n"
      ],
      "metadata": {
        "id": "r65rk33qyOff"
      }
    },
    {
      "cell_type": "code",
      "source": [
        "dfBFriday = pd.read_csv('/content/drive/MyDrive/Colab Notebooks/data/black_friday.csv')"
      ],
      "metadata": {
        "id": "HlFhxqmdyOzJ"
      },
      "execution_count": 207,
      "outputs": []
    },
    {
      "cell_type": "code",
      "source": [
        "dfBFriday.head()"
      ],
      "metadata": {
        "colab": {
          "base_uri": "https://localhost:8080/",
          "height": 296
        },
        "id": "MBSjUI6UyjXJ",
        "outputId": "9d004c34-ffb5-4b72-92e9-b6ee9a269286"
      },
      "execution_count": 208,
      "outputs": [
        {
          "output_type": "execute_result",
          "data": {
            "text/plain": [
              "   User_ID Product_ID Gender   Age  Occupation City_Category  \\\n",
              "0  1000001  P00069042      F  0-17          10             A   \n",
              "1  1000001  P00248942      F  0-17          10             A   \n",
              "2  1000001  P00087842      F  0-17          10             A   \n",
              "3  1000001  P00085442      F  0-17          10             A   \n",
              "4  1000002  P00285442      M   55+          16             C   \n",
              "\n",
              "  Stay_In_Current_City_Years  Marital_Status  Product_Category_1  \\\n",
              "0                          2               0                   3   \n",
              "1                          2               0                   1   \n",
              "2                          2               0                  12   \n",
              "3                          2               0                  12   \n",
              "4                         4+               0                   8   \n",
              "\n",
              "   Product_Category_2  Product_Category_3  Purchase  \n",
              "0                 NaN                 NaN      8370  \n",
              "1                 6.0                14.0     15200  \n",
              "2                 NaN                 NaN      1422  \n",
              "3                14.0                 NaN      1057  \n",
              "4                 NaN                 NaN      7969  "
            ],
            "text/html": [
              "\n",
              "  <div id=\"df-9377e5e3-024b-4978-a852-413609202ad5\" class=\"colab-df-container\">\n",
              "    <div>\n",
              "<style scoped>\n",
              "    .dataframe tbody tr th:only-of-type {\n",
              "        vertical-align: middle;\n",
              "    }\n",
              "\n",
              "    .dataframe tbody tr th {\n",
              "        vertical-align: top;\n",
              "    }\n",
              "\n",
              "    .dataframe thead th {\n",
              "        text-align: right;\n",
              "    }\n",
              "</style>\n",
              "<table border=\"1\" class=\"dataframe\">\n",
              "  <thead>\n",
              "    <tr style=\"text-align: right;\">\n",
              "      <th></th>\n",
              "      <th>User_ID</th>\n",
              "      <th>Product_ID</th>\n",
              "      <th>Gender</th>\n",
              "      <th>Age</th>\n",
              "      <th>Occupation</th>\n",
              "      <th>City_Category</th>\n",
              "      <th>Stay_In_Current_City_Years</th>\n",
              "      <th>Marital_Status</th>\n",
              "      <th>Product_Category_1</th>\n",
              "      <th>Product_Category_2</th>\n",
              "      <th>Product_Category_3</th>\n",
              "      <th>Purchase</th>\n",
              "    </tr>\n",
              "  </thead>\n",
              "  <tbody>\n",
              "    <tr>\n",
              "      <th>0</th>\n",
              "      <td>1000001</td>\n",
              "      <td>P00069042</td>\n",
              "      <td>F</td>\n",
              "      <td>0-17</td>\n",
              "      <td>10</td>\n",
              "      <td>A</td>\n",
              "      <td>2</td>\n",
              "      <td>0</td>\n",
              "      <td>3</td>\n",
              "      <td>NaN</td>\n",
              "      <td>NaN</td>\n",
              "      <td>8370</td>\n",
              "    </tr>\n",
              "    <tr>\n",
              "      <th>1</th>\n",
              "      <td>1000001</td>\n",
              "      <td>P00248942</td>\n",
              "      <td>F</td>\n",
              "      <td>0-17</td>\n",
              "      <td>10</td>\n",
              "      <td>A</td>\n",
              "      <td>2</td>\n",
              "      <td>0</td>\n",
              "      <td>1</td>\n",
              "      <td>6.0</td>\n",
              "      <td>14.0</td>\n",
              "      <td>15200</td>\n",
              "    </tr>\n",
              "    <tr>\n",
              "      <th>2</th>\n",
              "      <td>1000001</td>\n",
              "      <td>P00087842</td>\n",
              "      <td>F</td>\n",
              "      <td>0-17</td>\n",
              "      <td>10</td>\n",
              "      <td>A</td>\n",
              "      <td>2</td>\n",
              "      <td>0</td>\n",
              "      <td>12</td>\n",
              "      <td>NaN</td>\n",
              "      <td>NaN</td>\n",
              "      <td>1422</td>\n",
              "    </tr>\n",
              "    <tr>\n",
              "      <th>3</th>\n",
              "      <td>1000001</td>\n",
              "      <td>P00085442</td>\n",
              "      <td>F</td>\n",
              "      <td>0-17</td>\n",
              "      <td>10</td>\n",
              "      <td>A</td>\n",
              "      <td>2</td>\n",
              "      <td>0</td>\n",
              "      <td>12</td>\n",
              "      <td>14.0</td>\n",
              "      <td>NaN</td>\n",
              "      <td>1057</td>\n",
              "    </tr>\n",
              "    <tr>\n",
              "      <th>4</th>\n",
              "      <td>1000002</td>\n",
              "      <td>P00285442</td>\n",
              "      <td>M</td>\n",
              "      <td>55+</td>\n",
              "      <td>16</td>\n",
              "      <td>C</td>\n",
              "      <td>4+</td>\n",
              "      <td>0</td>\n",
              "      <td>8</td>\n",
              "      <td>NaN</td>\n",
              "      <td>NaN</td>\n",
              "      <td>7969</td>\n",
              "    </tr>\n",
              "  </tbody>\n",
              "</table>\n",
              "</div>\n",
              "    <div class=\"colab-df-buttons\">\n",
              "\n",
              "  <div class=\"colab-df-container\">\n",
              "    <button class=\"colab-df-convert\" onclick=\"convertToInteractive('df-9377e5e3-024b-4978-a852-413609202ad5')\"\n",
              "            title=\"Convert this dataframe to an interactive table.\"\n",
              "            style=\"display:none;\">\n",
              "\n",
              "  <svg xmlns=\"http://www.w3.org/2000/svg\" height=\"24px\" viewBox=\"0 -960 960 960\">\n",
              "    <path d=\"M120-120v-720h720v720H120Zm60-500h600v-160H180v160Zm220 220h160v-160H400v160Zm0 220h160v-160H400v160ZM180-400h160v-160H180v160Zm440 0h160v-160H620v160ZM180-180h160v-160H180v160Zm440 0h160v-160H620v160Z\"/>\n",
              "  </svg>\n",
              "    </button>\n",
              "\n",
              "  <style>\n",
              "    .colab-df-container {\n",
              "      display:flex;\n",
              "      gap: 12px;\n",
              "    }\n",
              "\n",
              "    .colab-df-convert {\n",
              "      background-color: #E8F0FE;\n",
              "      border: none;\n",
              "      border-radius: 50%;\n",
              "      cursor: pointer;\n",
              "      display: none;\n",
              "      fill: #1967D2;\n",
              "      height: 32px;\n",
              "      padding: 0 0 0 0;\n",
              "      width: 32px;\n",
              "    }\n",
              "\n",
              "    .colab-df-convert:hover {\n",
              "      background-color: #E2EBFA;\n",
              "      box-shadow: 0px 1px 2px rgba(60, 64, 67, 0.3), 0px 1px 3px 1px rgba(60, 64, 67, 0.15);\n",
              "      fill: #174EA6;\n",
              "    }\n",
              "\n",
              "    .colab-df-buttons div {\n",
              "      margin-bottom: 4px;\n",
              "    }\n",
              "\n",
              "    [theme=dark] .colab-df-convert {\n",
              "      background-color: #3B4455;\n",
              "      fill: #D2E3FC;\n",
              "    }\n",
              "\n",
              "    [theme=dark] .colab-df-convert:hover {\n",
              "      background-color: #434B5C;\n",
              "      box-shadow: 0px 1px 3px 1px rgba(0, 0, 0, 0.15);\n",
              "      filter: drop-shadow(0px 1px 2px rgba(0, 0, 0, 0.3));\n",
              "      fill: #FFFFFF;\n",
              "    }\n",
              "  </style>\n",
              "\n",
              "    <script>\n",
              "      const buttonEl =\n",
              "        document.querySelector('#df-9377e5e3-024b-4978-a852-413609202ad5 button.colab-df-convert');\n",
              "      buttonEl.style.display =\n",
              "        google.colab.kernel.accessAllowed ? 'block' : 'none';\n",
              "\n",
              "      async function convertToInteractive(key) {\n",
              "        const element = document.querySelector('#df-9377e5e3-024b-4978-a852-413609202ad5');\n",
              "        const dataTable =\n",
              "          await google.colab.kernel.invokeFunction('convertToInteractive',\n",
              "                                                    [key], {});\n",
              "        if (!dataTable) return;\n",
              "\n",
              "        const docLinkHtml = 'Like what you see? Visit the ' +\n",
              "          '<a target=\"_blank\" href=https://colab.research.google.com/notebooks/data_table.ipynb>data table notebook</a>'\n",
              "          + ' to learn more about interactive tables.';\n",
              "        element.innerHTML = '';\n",
              "        dataTable['output_type'] = 'display_data';\n",
              "        await google.colab.output.renderOutput(dataTable, element);\n",
              "        const docLink = document.createElement('div');\n",
              "        docLink.innerHTML = docLinkHtml;\n",
              "        element.appendChild(docLink);\n",
              "      }\n",
              "    </script>\n",
              "  </div>\n",
              "\n",
              "\n",
              "<div id=\"df-587b27ca-f175-4ad6-b69a-748555ff7b05\">\n",
              "  <button class=\"colab-df-quickchart\" onclick=\"quickchart('df-587b27ca-f175-4ad6-b69a-748555ff7b05')\"\n",
              "            title=\"Suggest charts\"\n",
              "            style=\"display:none;\">\n",
              "\n",
              "<svg xmlns=\"http://www.w3.org/2000/svg\" height=\"24px\"viewBox=\"0 0 24 24\"\n",
              "     width=\"24px\">\n",
              "    <g>\n",
              "        <path d=\"M19 3H5c-1.1 0-2 .9-2 2v14c0 1.1.9 2 2 2h14c1.1 0 2-.9 2-2V5c0-1.1-.9-2-2-2zM9 17H7v-7h2v7zm4 0h-2V7h2v10zm4 0h-2v-4h2v4z\"/>\n",
              "    </g>\n",
              "</svg>\n",
              "  </button>\n",
              "\n",
              "<style>\n",
              "  .colab-df-quickchart {\n",
              "      --bg-color: #E8F0FE;\n",
              "      --fill-color: #1967D2;\n",
              "      --hover-bg-color: #E2EBFA;\n",
              "      --hover-fill-color: #174EA6;\n",
              "      --disabled-fill-color: #AAA;\n",
              "      --disabled-bg-color: #DDD;\n",
              "  }\n",
              "\n",
              "  [theme=dark] .colab-df-quickchart {\n",
              "      --bg-color: #3B4455;\n",
              "      --fill-color: #D2E3FC;\n",
              "      --hover-bg-color: #434B5C;\n",
              "      --hover-fill-color: #FFFFFF;\n",
              "      --disabled-bg-color: #3B4455;\n",
              "      --disabled-fill-color: #666;\n",
              "  }\n",
              "\n",
              "  .colab-df-quickchart {\n",
              "    background-color: var(--bg-color);\n",
              "    border: none;\n",
              "    border-radius: 50%;\n",
              "    cursor: pointer;\n",
              "    display: none;\n",
              "    fill: var(--fill-color);\n",
              "    height: 32px;\n",
              "    padding: 0;\n",
              "    width: 32px;\n",
              "  }\n",
              "\n",
              "  .colab-df-quickchart:hover {\n",
              "    background-color: var(--hover-bg-color);\n",
              "    box-shadow: 0 1px 2px rgba(60, 64, 67, 0.3), 0 1px 3px 1px rgba(60, 64, 67, 0.15);\n",
              "    fill: var(--button-hover-fill-color);\n",
              "  }\n",
              "\n",
              "  .colab-df-quickchart-complete:disabled,\n",
              "  .colab-df-quickchart-complete:disabled:hover {\n",
              "    background-color: var(--disabled-bg-color);\n",
              "    fill: var(--disabled-fill-color);\n",
              "    box-shadow: none;\n",
              "  }\n",
              "\n",
              "  .colab-df-spinner {\n",
              "    border: 2px solid var(--fill-color);\n",
              "    border-color: transparent;\n",
              "    border-bottom-color: var(--fill-color);\n",
              "    animation:\n",
              "      spin 1s steps(1) infinite;\n",
              "  }\n",
              "\n",
              "  @keyframes spin {\n",
              "    0% {\n",
              "      border-color: transparent;\n",
              "      border-bottom-color: var(--fill-color);\n",
              "      border-left-color: var(--fill-color);\n",
              "    }\n",
              "    20% {\n",
              "      border-color: transparent;\n",
              "      border-left-color: var(--fill-color);\n",
              "      border-top-color: var(--fill-color);\n",
              "    }\n",
              "    30% {\n",
              "      border-color: transparent;\n",
              "      border-left-color: var(--fill-color);\n",
              "      border-top-color: var(--fill-color);\n",
              "      border-right-color: var(--fill-color);\n",
              "    }\n",
              "    40% {\n",
              "      border-color: transparent;\n",
              "      border-right-color: var(--fill-color);\n",
              "      border-top-color: var(--fill-color);\n",
              "    }\n",
              "    60% {\n",
              "      border-color: transparent;\n",
              "      border-right-color: var(--fill-color);\n",
              "    }\n",
              "    80% {\n",
              "      border-color: transparent;\n",
              "      border-right-color: var(--fill-color);\n",
              "      border-bottom-color: var(--fill-color);\n",
              "    }\n",
              "    90% {\n",
              "      border-color: transparent;\n",
              "      border-bottom-color: var(--fill-color);\n",
              "    }\n",
              "  }\n",
              "</style>\n",
              "\n",
              "  <script>\n",
              "    async function quickchart(key) {\n",
              "      const quickchartButtonEl =\n",
              "        document.querySelector('#' + key + ' button');\n",
              "      quickchartButtonEl.disabled = true;  // To prevent multiple clicks.\n",
              "      quickchartButtonEl.classList.add('colab-df-spinner');\n",
              "      try {\n",
              "        const charts = await google.colab.kernel.invokeFunction(\n",
              "            'suggestCharts', [key], {});\n",
              "      } catch (error) {\n",
              "        console.error('Error during call to suggestCharts:', error);\n",
              "      }\n",
              "      quickchartButtonEl.classList.remove('colab-df-spinner');\n",
              "      quickchartButtonEl.classList.add('colab-df-quickchart-complete');\n",
              "    }\n",
              "    (() => {\n",
              "      let quickchartButtonEl =\n",
              "        document.querySelector('#df-587b27ca-f175-4ad6-b69a-748555ff7b05 button');\n",
              "      quickchartButtonEl.style.display =\n",
              "        google.colab.kernel.accessAllowed ? 'block' : 'none';\n",
              "    })();\n",
              "  </script>\n",
              "</div>\n",
              "\n",
              "    </div>\n",
              "  </div>\n"
            ],
            "application/vnd.google.colaboratory.intrinsic+json": {
              "type": "dataframe",
              "variable_name": "dfBFriday"
            }
          },
          "metadata": {},
          "execution_count": 208
        }
      ]
    },
    {
      "cell_type": "code",
      "source": [
        "dfBFriday.info()"
      ],
      "metadata": {
        "colab": {
          "base_uri": "https://localhost:8080/"
        },
        "id": "TGxeL5xaynLf",
        "outputId": "c5839a5e-2f0d-4757-94ba-95b652bf650c"
      },
      "execution_count": 209,
      "outputs": [
        {
          "output_type": "stream",
          "name": "stdout",
          "text": [
            "<class 'pandas.core.frame.DataFrame'>\n",
            "RangeIndex: 550068 entries, 0 to 550067\n",
            "Data columns (total 12 columns):\n",
            " #   Column                      Non-Null Count   Dtype  \n",
            "---  ------                      --------------   -----  \n",
            " 0   User_ID                     550068 non-null  int64  \n",
            " 1   Product_ID                  550068 non-null  object \n",
            " 2   Gender                      550068 non-null  object \n",
            " 3   Age                         550068 non-null  object \n",
            " 4   Occupation                  550068 non-null  int64  \n",
            " 5   City_Category               550068 non-null  object \n",
            " 6   Stay_In_Current_City_Years  550068 non-null  object \n",
            " 7   Marital_Status              550068 non-null  int64  \n",
            " 8   Product_Category_1          550068 non-null  int64  \n",
            " 9   Product_Category_2          376430 non-null  float64\n",
            " 10  Product_Category_3          166821 non-null  float64\n",
            " 11  Purchase                    550068 non-null  int64  \n",
            "dtypes: float64(2), int64(5), object(5)\n",
            "memory usage: 50.4+ MB\n"
          ]
        }
      ]
    },
    {
      "cell_type": "code",
      "source": [
        "dfBFriday.columns.tolist()"
      ],
      "metadata": {
        "colab": {
          "base_uri": "https://localhost:8080/"
        },
        "id": "egirBqSZyrYL",
        "outputId": "169853e0-d802-4fbe-a315-d32a07f74f95"
      },
      "execution_count": 210,
      "outputs": [
        {
          "output_type": "execute_result",
          "data": {
            "text/plain": [
              "['User_ID',\n",
              " 'Product_ID',\n",
              " 'Gender',\n",
              " 'Age',\n",
              " 'Occupation',\n",
              " 'City_Category',\n",
              " 'Stay_In_Current_City_Years',\n",
              " 'Marital_Status',\n",
              " 'Product_Category_1',\n",
              " 'Product_Category_2',\n",
              " 'Product_Category_3',\n",
              " 'Purchase']"
            ]
          },
          "metadata": {},
          "execution_count": 210
        }
      ]
    },
    {
      "cell_type": "code",
      "source": [
        "dfBFriday.duplicated().value_counts()"
      ],
      "metadata": {
        "colab": {
          "base_uri": "https://localhost:8080/"
        },
        "id": "FtdV9Cywyvud",
        "outputId": "59b6bb4a-33a0-4726-fcf2-ef99e27461d7"
      },
      "execution_count": 211,
      "outputs": [
        {
          "output_type": "execute_result",
          "data": {
            "text/plain": [
              "False    550068\n",
              "Name: count, dtype: int64"
            ]
          },
          "metadata": {},
          "execution_count": 211
        }
      ]
    },
    {
      "cell_type": "markdown",
      "source": [
        "We having total 550068 number of rows data including NaN value with **no** duplicated data. So, first task to convert the given data into useful data. Now I will investigate more the nature of the data (which columns include NaN values which are numerical, which are non-numerical.)\n",
        "\n"
      ],
      "metadata": {
        "id": "jFAOrXHIy7pW"
      }
    },
    {
      "cell_type": "code",
      "source": [
        "string_columns = dfBFriday[dfBFriday.columns.tolist()].select_dtypes(include='object').columns.tolist()\n",
        "numerical_columns = [col for col in dfBFriday.columns if dfBFriday[col].dtype in ['int64', 'float64']]\n",
        "\n",
        "print(\"String Columns: {string_columns}\".format(string_columns=string_columns))\n",
        "print(\"Numerical Columns: {numerical_columns}\".format(numerical_columns=numerical_columns))"
      ],
      "metadata": {
        "colab": {
          "base_uri": "https://localhost:8080/"
        },
        "id": "rE8SwK6yzdBM",
        "outputId": "d7b918b6-cd5e-4a9b-969f-ae02267cc3e7"
      },
      "execution_count": 212,
      "outputs": [
        {
          "output_type": "stream",
          "name": "stdout",
          "text": [
            "String Columns: ['Product_ID', 'Gender', 'Age', 'City_Category', 'Stay_In_Current_City_Years']\n",
            "Numerical Columns: ['User_ID', 'Occupation', 'Marital_Status', 'Product_Category_1', 'Product_Category_2', 'Product_Category_3', 'Purchase']\n"
          ]
        }
      ]
    },
    {
      "cell_type": "code",
      "source": [
        "dfBFriday.rename(columns=str.lower,inplace=True) #Convertig all the columns name in the lowercase for easy use."
      ],
      "metadata": {
        "id": "BbUWv__F0LOs"
      },
      "execution_count": 213,
      "outputs": []
    },
    {
      "cell_type": "code",
      "source": [
        "string_columns = dfBFriday[dfBFriday.columns.tolist()].select_dtypes(include='object').columns.tolist()\n",
        "numerical_columns = [col for col in dfBFriday.columns if dfBFriday[col].dtype in ['int64', 'float64']]\n",
        "\n",
        "print(\"String Columns: {string_columns}\".format(string_columns=string_columns))\n",
        "print(\"Numerical Columns: {numerical_columns}\".format(numerical_columns=numerical_columns))"
      ],
      "metadata": {
        "colab": {
          "base_uri": "https://localhost:8080/"
        },
        "id": "6-CQ9b7e0QEt",
        "outputId": "0391090b-e508-438f-c63f-d978892f74b1"
      },
      "execution_count": 214,
      "outputs": [
        {
          "output_type": "stream",
          "name": "stdout",
          "text": [
            "String Columns: ['product_id', 'gender', 'age', 'city_category', 'stay_in_current_city_years']\n",
            "Numerical Columns: ['user_id', 'occupation', 'marital_status', 'product_category_1', 'product_category_2', 'product_category_3', 'purchase']\n"
          ]
        }
      ]
    },
    {
      "cell_type": "code",
      "source": [
        "dfBFriday.isna().sum()"
      ],
      "metadata": {
        "colab": {
          "base_uri": "https://localhost:8080/"
        },
        "id": "sbdyS1Z20UDs",
        "outputId": "c48561b8-0a9b-420f-b84b-0e30cd8a805c"
      },
      "execution_count": 215,
      "outputs": [
        {
          "output_type": "execute_result",
          "data": {
            "text/plain": [
              "user_id                            0\n",
              "product_id                         0\n",
              "gender                             0\n",
              "age                                0\n",
              "occupation                         0\n",
              "city_category                      0\n",
              "stay_in_current_city_years         0\n",
              "marital_status                     0\n",
              "product_category_1                 0\n",
              "product_category_2            173638\n",
              "product_category_3            383247\n",
              "purchase                           0\n",
              "dtype: int64"
            ]
          },
          "metadata": {},
          "execution_count": 215
        }
      ]
    },
    {
      "cell_type": "markdown",
      "source": [
        "I will individually examine columns to have a insight about how to deal with missing, and non-numerical data"
      ],
      "metadata": {
        "id": "pFakFJeQ0kVl"
      }
    },
    {
      "cell_type": "markdown",
      "source": [
        "**user_id**"
      ],
      "metadata": {
        "id": "iWHZNtRE02Ym"
      }
    },
    {
      "cell_type": "code",
      "source": [
        "print(dfBFriday.user_id)\n",
        "dfBFriday.user_id.isna().sum()"
      ],
      "metadata": {
        "colab": {
          "base_uri": "https://localhost:8080/"
        },
        "id": "0eCeiMTo0r3l",
        "outputId": "95e0563a-103d-4687-b877-37770197564d"
      },
      "execution_count": 216,
      "outputs": [
        {
          "output_type": "stream",
          "name": "stdout",
          "text": [
            "0         1000001\n",
            "1         1000001\n",
            "2         1000001\n",
            "3         1000001\n",
            "4         1000002\n",
            "           ...   \n",
            "550063    1006033\n",
            "550064    1006035\n",
            "550065    1006036\n",
            "550066    1006038\n",
            "550067    1006039\n",
            "Name: user_id, Length: 550068, dtype: int64\n"
          ]
        },
        {
          "output_type": "execute_result",
          "data": {
            "text/plain": [
              "0"
            ]
          },
          "metadata": {},
          "execution_count": 216
        }
      ]
    },
    {
      "cell_type": "markdown",
      "source": [
        "**product_id**"
      ],
      "metadata": {
        "id": "7NmKMxjG1DMg"
      }
    },
    {
      "cell_type": "code",
      "source": [
        "print(dfBFriday.product_id)\n",
        "dfBFriday.product_id.isna().sum()"
      ],
      "metadata": {
        "colab": {
          "base_uri": "https://localhost:8080/"
        },
        "id": "VGT2Qz0R1DUE",
        "outputId": "f3ea20fa-07a2-4158-838f-2510f6306f12"
      },
      "execution_count": 217,
      "outputs": [
        {
          "output_type": "stream",
          "name": "stdout",
          "text": [
            "0         P00069042\n",
            "1         P00248942\n",
            "2         P00087842\n",
            "3         P00085442\n",
            "4         P00285442\n",
            "            ...    \n",
            "550063    P00372445\n",
            "550064    P00375436\n",
            "550065    P00375436\n",
            "550066    P00375436\n",
            "550067    P00371644\n",
            "Name: product_id, Length: 550068, dtype: object\n"
          ]
        },
        {
          "output_type": "execute_result",
          "data": {
            "text/plain": [
              "0"
            ]
          },
          "metadata": {},
          "execution_count": 217
        }
      ]
    },
    {
      "cell_type": "markdown",
      "source": [
        "**gender**"
      ],
      "metadata": {
        "id": "Z2SoahqH1DaU"
      }
    },
    {
      "cell_type": "code",
      "source": [
        "print(dfBFriday.gender)\n",
        "print(dfBFriday.gender.isna().sum())\n",
        "print(dfBFriday.gender.unique())"
      ],
      "metadata": {
        "colab": {
          "base_uri": "https://localhost:8080/"
        },
        "id": "j6mS-Ay-1Dh6",
        "outputId": "6a1f315c-be1c-41b5-ba16-07d9e3c9e3f8"
      },
      "execution_count": 218,
      "outputs": [
        {
          "output_type": "stream",
          "name": "stdout",
          "text": [
            "0         F\n",
            "1         F\n",
            "2         F\n",
            "3         F\n",
            "4         M\n",
            "         ..\n",
            "550063    M\n",
            "550064    F\n",
            "550065    F\n",
            "550066    F\n",
            "550067    F\n",
            "Name: gender, Length: 550068, dtype: object\n",
            "0\n",
            "['F' 'M']\n"
          ]
        }
      ]
    },
    {
      "cell_type": "markdown",
      "source": [
        "we have two unique genders."
      ],
      "metadata": {
        "id": "pBx3l6ZK1Ife"
      }
    },
    {
      "cell_type": "code",
      "source": [
        "from sklearn.preprocessing import LabelEncoder\n",
        "\n",
        "label_encoder = LabelEncoder()\n",
        "dfBFriday['gender'] = label_encoder.fit_transform(dfBFriday['gender'])\n",
        "print(dfBFriday.gender)\n",
        "print(dfBFriday.gender.isna().sum())\n",
        "print(dfBFriday.gender.unique())"
      ],
      "metadata": {
        "colab": {
          "base_uri": "https://localhost:8080/"
        },
        "id": "YbL78r9T5nwk",
        "outputId": "784d8600-b5e1-4bb4-cd4f-0735973ce8bc"
      },
      "execution_count": 219,
      "outputs": [
        {
          "output_type": "stream",
          "name": "stdout",
          "text": [
            "0         0\n",
            "1         0\n",
            "2         0\n",
            "3         0\n",
            "4         1\n",
            "         ..\n",
            "550063    1\n",
            "550064    0\n",
            "550065    0\n",
            "550066    0\n",
            "550067    0\n",
            "Name: gender, Length: 550068, dtype: int64\n",
            "0\n",
            "[0 1]\n"
          ]
        }
      ]
    },
    {
      "cell_type": "markdown",
      "source": [
        "0 is female. 1 is male"
      ],
      "metadata": {
        "id": "GW_rM3ezJYII"
      }
    },
    {
      "cell_type": "markdown",
      "source": [
        "**age**"
      ],
      "metadata": {
        "id": "ErFEfaGC1IxR"
      }
    },
    {
      "cell_type": "code",
      "source": [
        "print(dfBFriday.age)\n",
        "print(dfBFriday.age.isna().sum())\n",
        "print(dfBFriday.age.unique())"
      ],
      "metadata": {
        "colab": {
          "base_uri": "https://localhost:8080/"
        },
        "id": "_VW24-WZ1Io1",
        "outputId": "73f96590-1655-476a-82f3-48a990a65fe4"
      },
      "execution_count": 220,
      "outputs": [
        {
          "output_type": "stream",
          "name": "stdout",
          "text": [
            "0          0-17\n",
            "1          0-17\n",
            "2          0-17\n",
            "3          0-17\n",
            "4           55+\n",
            "          ...  \n",
            "550063    51-55\n",
            "550064    26-35\n",
            "550065    26-35\n",
            "550066      55+\n",
            "550067    46-50\n",
            "Name: age, Length: 550068, dtype: object\n",
            "0\n",
            "['0-17' '55+' '26-35' '46-50' '51-55' '36-45' '18-25']\n"
          ]
        }
      ]
    },
    {
      "cell_type": "code",
      "source": [
        "dfBFriday.age.dtype"
      ],
      "metadata": {
        "colab": {
          "base_uri": "https://localhost:8080/"
        },
        "id": "dJ-FyZAy1I5W",
        "outputId": "e24e5525-d60e-4032-afde-4799bf682a98"
      },
      "execution_count": 221,
      "outputs": [
        {
          "output_type": "execute_result",
          "data": {
            "text/plain": [
              "dtype('O')"
            ]
          },
          "metadata": {},
          "execution_count": 221
        }
      ]
    },
    {
      "cell_type": "markdown",
      "source": [
        "Age is non-numerical column but it can easily be labeled. Thefore I am taking note. ***`Age` will be labeled. Categorical data.***\n",
        "\n"
      ],
      "metadata": {
        "id": "AGMx1ke-14ww"
      }
    },
    {
      "cell_type": "code",
      "source": [
        "from sklearn.preprocessing import LabelEncoder\n",
        "\n",
        "label_encoder = LabelEncoder()\n",
        "dfBFriday['age'] = label_encoder.fit_transform(dfBFriday['age'])\n",
        "print(dfBFriday.age)\n",
        "print(dfBFriday.age.isna().sum())\n",
        "print(dfBFriday.age.unique())"
      ],
      "metadata": {
        "colab": {
          "base_uri": "https://localhost:8080/"
        },
        "id": "G9XS_nDA44jQ",
        "outputId": "0ed8d7b7-0d11-45a2-8fdc-71f6305ce3ef"
      },
      "execution_count": 222,
      "outputs": [
        {
          "output_type": "stream",
          "name": "stdout",
          "text": [
            "0         0\n",
            "1         0\n",
            "2         0\n",
            "3         0\n",
            "4         6\n",
            "         ..\n",
            "550063    5\n",
            "550064    2\n",
            "550065    2\n",
            "550066    6\n",
            "550067    4\n",
            "Name: age, Length: 550068, dtype: int64\n",
            "0\n",
            "[0 6 2 4 5 3 1]\n"
          ]
        }
      ]
    },
    {
      "cell_type": "markdown",
      "source": [
        "**occupation**"
      ],
      "metadata": {
        "id": "3wiWyfTU2DLH"
      }
    },
    {
      "cell_type": "code",
      "source": [
        "print(dfBFriday.occupation)\n",
        "print(dfBFriday.occupation.isna().sum())\n",
        "print(dfBFriday.occupation.unique())"
      ],
      "metadata": {
        "colab": {
          "base_uri": "https://localhost:8080/"
        },
        "id": "5NjX-EQs2W16",
        "outputId": "13565f1f-c838-436b-eed7-df17254966e6"
      },
      "execution_count": 223,
      "outputs": [
        {
          "output_type": "stream",
          "name": "stdout",
          "text": [
            "0         10\n",
            "1         10\n",
            "2         10\n",
            "3         10\n",
            "4         16\n",
            "          ..\n",
            "550063    13\n",
            "550064     1\n",
            "550065    15\n",
            "550066     1\n",
            "550067     0\n",
            "Name: occupation, Length: 550068, dtype: int64\n",
            "0\n",
            "[10 16 15  7 20  9  1 12 17  0  3  4 11  8 19  2 18  5 14 13  6]\n"
          ]
        }
      ]
    },
    {
      "cell_type": "markdown",
      "source": [
        "**city_category**"
      ],
      "metadata": {
        "id": "3C_mvF_d2iGE"
      }
    },
    {
      "cell_type": "code",
      "source": [
        "print(dfBFriday.city_category)\n",
        "print(dfBFriday.city_category.isna().sum())\n",
        "print(dfBFriday.city_category.unique())"
      ],
      "metadata": {
        "colab": {
          "base_uri": "https://localhost:8080/"
        },
        "id": "1boqlHhZ2jcE",
        "outputId": "99f1eba6-8ff2-45d3-bd44-0d5bbb79ff68"
      },
      "execution_count": 224,
      "outputs": [
        {
          "output_type": "stream",
          "name": "stdout",
          "text": [
            "0         A\n",
            "1         A\n",
            "2         A\n",
            "3         A\n",
            "4         C\n",
            "         ..\n",
            "550063    B\n",
            "550064    C\n",
            "550065    B\n",
            "550066    C\n",
            "550067    B\n",
            "Name: city_category, Length: 550068, dtype: object\n",
            "0\n",
            "['A' 'C' 'B']\n"
          ]
        }
      ]
    },
    {
      "cell_type": "markdown",
      "source": [
        "city_category is non-numerical column but it can easily be labeled it includes 3 category. Thefore I am taking note. ***`city_category` will be labeled. Categorical data.***"
      ],
      "metadata": {
        "id": "hysTB5dd2qHY"
      }
    },
    {
      "cell_type": "code",
      "source": [
        "from sklearn.preprocessing import LabelEncoder\n",
        "\n",
        "label_encoder = LabelEncoder()\n",
        "dfBFriday['city_category'] = label_encoder.fit_transform(dfBFriday['city_category'])\n",
        "print(dfBFriday.city_category)\n",
        "print(dfBFriday.city_category.isna().sum())\n",
        "print(dfBFriday.city_category.unique())"
      ],
      "metadata": {
        "colab": {
          "base_uri": "https://localhost:8080/"
        },
        "id": "Bmvbtgi65J-C",
        "outputId": "42cc8ee5-3170-4e44-b6ba-22b1c1b008b3"
      },
      "execution_count": 225,
      "outputs": [
        {
          "output_type": "stream",
          "name": "stdout",
          "text": [
            "0         0\n",
            "1         0\n",
            "2         0\n",
            "3         0\n",
            "4         2\n",
            "         ..\n",
            "550063    1\n",
            "550064    2\n",
            "550065    1\n",
            "550066    2\n",
            "550067    1\n",
            "Name: city_category, Length: 550068, dtype: int64\n",
            "0\n",
            "[0 2 1]\n"
          ]
        }
      ]
    },
    {
      "cell_type": "markdown",
      "source": [
        "**stay_in_current_city_years**"
      ],
      "metadata": {
        "id": "UyeL4xko2wn8"
      }
    },
    {
      "cell_type": "code",
      "source": [
        "print(dfBFriday.stay_in_current_city_years)\n",
        "print(dfBFriday.stay_in_current_city_years.isna().sum())\n",
        "print(dfBFriday.stay_in_current_city_years.unique())"
      ],
      "metadata": {
        "colab": {
          "base_uri": "https://localhost:8080/"
        },
        "id": "hT5HKfTB21Yi",
        "outputId": "7c8c6a26-ee6c-4294-a699-9925682a673b"
      },
      "execution_count": 226,
      "outputs": [
        {
          "output_type": "stream",
          "name": "stdout",
          "text": [
            "0          2\n",
            "1          2\n",
            "2          2\n",
            "3          2\n",
            "4         4+\n",
            "          ..\n",
            "550063     1\n",
            "550064     3\n",
            "550065    4+\n",
            "550066     2\n",
            "550067    4+\n",
            "Name: stay_in_current_city_years, Length: 550068, dtype: object\n",
            "0\n",
            "['2' '4+' '3' '1' '0']\n"
          ]
        }
      ]
    },
    {
      "cell_type": "markdown",
      "source": [
        "***`stay_in_current_city_years` can be labeled. Categorical data.***But instead of bothering with labeling stay_in_current_city_years I will just replace \"4+\" with 4, to make it an integer column."
      ],
      "metadata": {
        "id": "Ae9Q6oBD27Fe"
      }
    },
    {
      "cell_type": "code",
      "source": [
        "dfBFriday.stay_in_current_city_years = dfBFriday.stay_in_current_city_years.replace(\"4+\",'4').astype(int)\n",
        "dfBFriday.stay_in_current_city_years.value_counts()"
      ],
      "metadata": {
        "colab": {
          "base_uri": "https://localhost:8080/"
        },
        "id": "0DGn9c723bI7",
        "outputId": "8e9791aa-b44d-4ea1-9163-73fabc8866f0"
      },
      "execution_count": 227,
      "outputs": [
        {
          "output_type": "execute_result",
          "data": {
            "text/plain": [
              "stay_in_current_city_years\n",
              "1    193821\n",
              "2    101838\n",
              "3     95285\n",
              "4     84726\n",
              "0     74398\n",
              "Name: count, dtype: int64"
            ]
          },
          "metadata": {},
          "execution_count": 227
        }
      ]
    },
    {
      "cell_type": "markdown",
      "source": [
        "**marital_status**"
      ],
      "metadata": {
        "id": "N2rDRRZI3k5D"
      }
    },
    {
      "cell_type": "code",
      "source": [
        "print(dfBFriday.marital_status)\n",
        "print(dfBFriday.marital_status.isna().sum())\n",
        "print(dfBFriday.marital_status.unique())"
      ],
      "metadata": {
        "colab": {
          "base_uri": "https://localhost:8080/"
        },
        "id": "kI80pHfy3ln0",
        "outputId": "57f07c1e-d311-454b-b819-4bbc147e3f19"
      },
      "execution_count": 228,
      "outputs": [
        {
          "output_type": "stream",
          "name": "stdout",
          "text": [
            "0         0\n",
            "1         0\n",
            "2         0\n",
            "3         0\n",
            "4         0\n",
            "         ..\n",
            "550063    1\n",
            "550064    0\n",
            "550065    1\n",
            "550066    0\n",
            "550067    1\n",
            "Name: marital_status, Length: 550068, dtype: int64\n",
            "0\n",
            "[0 1]\n"
          ]
        }
      ]
    },
    {
      "cell_type": "code",
      "source": [
        "dfBFriday.info()"
      ],
      "metadata": {
        "colab": {
          "base_uri": "https://localhost:8080/"
        },
        "id": "fyYrAz6V5ZyV",
        "outputId": "34c5877d-3132-4291-bb3a-519005917def"
      },
      "execution_count": 229,
      "outputs": [
        {
          "output_type": "stream",
          "name": "stdout",
          "text": [
            "<class 'pandas.core.frame.DataFrame'>\n",
            "RangeIndex: 550068 entries, 0 to 550067\n",
            "Data columns (total 12 columns):\n",
            " #   Column                      Non-Null Count   Dtype  \n",
            "---  ------                      --------------   -----  \n",
            " 0   user_id                     550068 non-null  int64  \n",
            " 1   product_id                  550068 non-null  object \n",
            " 2   gender                      550068 non-null  int64  \n",
            " 3   age                         550068 non-null  int64  \n",
            " 4   occupation                  550068 non-null  int64  \n",
            " 5   city_category               550068 non-null  int64  \n",
            " 6   stay_in_current_city_years  550068 non-null  int64  \n",
            " 7   marital_status              550068 non-null  int64  \n",
            " 8   product_category_1          550068 non-null  int64  \n",
            " 9   product_category_2          376430 non-null  float64\n",
            " 10  product_category_3          166821 non-null  float64\n",
            " 11  purchase                    550068 non-null  int64  \n",
            "dtypes: float64(2), int64(9), object(1)\n",
            "memory usage: 50.4+ MB\n"
          ]
        }
      ]
    },
    {
      "cell_type": "markdown",
      "source": [
        "Now only product_id's Dtype is non-numerical."
      ],
      "metadata": {
        "id": "fh1wG_qf50sJ"
      }
    },
    {
      "cell_type": "markdown",
      "source": [
        "**product_id**"
      ],
      "metadata": {
        "id": "lCvXz1H47Jj2"
      }
    },
    {
      "cell_type": "code",
      "source": [
        "len(dfBFriday.product_id.unique())"
      ],
      "metadata": {
        "colab": {
          "base_uri": "https://localhost:8080/"
        },
        "id": "JSBEnlmK7Dhx",
        "outputId": "429770d7-a4e7-4dce-e115-f5df6a3927f2"
      },
      "execution_count": 230,
      "outputs": [
        {
          "output_type": "execute_result",
          "data": {
            "text/plain": [
              "3631"
            ]
          },
          "metadata": {},
          "execution_count": 230
        }
      ]
    },
    {
      "cell_type": "markdown",
      "source": [
        "3631 unique values, too many to encode. I will just drop product_id column. I don't think it gives important information."
      ],
      "metadata": {
        "id": "sSY_6tC08FHo"
      }
    },
    {
      "cell_type": "code",
      "source": [
        "dfBFriday = dfBFriday.drop(columns=['product_id'])"
      ],
      "metadata": {
        "id": "Kw2HmT2l8EeD"
      },
      "execution_count": 231,
      "outputs": []
    },
    {
      "cell_type": "code",
      "source": [
        "dfBFriday.info()"
      ],
      "metadata": {
        "colab": {
          "base_uri": "https://localhost:8080/"
        },
        "id": "3e0Jrxq88wGA",
        "outputId": "b0fdc9d2-6164-4584-a930-21b0fcf4cc01"
      },
      "execution_count": 232,
      "outputs": [
        {
          "output_type": "stream",
          "name": "stdout",
          "text": [
            "<class 'pandas.core.frame.DataFrame'>\n",
            "RangeIndex: 550068 entries, 0 to 550067\n",
            "Data columns (total 11 columns):\n",
            " #   Column                      Non-Null Count   Dtype  \n",
            "---  ------                      --------------   -----  \n",
            " 0   user_id                     550068 non-null  int64  \n",
            " 1   gender                      550068 non-null  int64  \n",
            " 2   age                         550068 non-null  int64  \n",
            " 3   occupation                  550068 non-null  int64  \n",
            " 4   city_category               550068 non-null  int64  \n",
            " 5   stay_in_current_city_years  550068 non-null  int64  \n",
            " 6   marital_status              550068 non-null  int64  \n",
            " 7   product_category_1          550068 non-null  int64  \n",
            " 8   product_category_2          376430 non-null  float64\n",
            " 9   product_category_3          166821 non-null  float64\n",
            " 10  purchase                    550068 non-null  int64  \n",
            "dtypes: float64(2), int64(9)\n",
            "memory usage: 46.2 MB\n"
          ]
        }
      ]
    },
    {
      "cell_type": "markdown",
      "source": [
        "**purchase**"
      ],
      "metadata": {
        "id": "WxPdP4-187C5"
      }
    },
    {
      "cell_type": "code",
      "source": [
        "print(dfBFriday.purchase)\n",
        "print(dfBFriday.purchase.isna().sum())\n",
        "print(dfBFriday.purchase.unique())"
      ],
      "metadata": {
        "colab": {
          "base_uri": "https://localhost:8080/"
        },
        "id": "bZM2yP5O88GX",
        "outputId": "1469c0a3-c2d0-430a-ab17-b01c994ca208"
      },
      "execution_count": 233,
      "outputs": [
        {
          "output_type": "stream",
          "name": "stdout",
          "text": [
            "0          8370\n",
            "1         15200\n",
            "2          1422\n",
            "3          1057\n",
            "4          7969\n",
            "          ...  \n",
            "550063      368\n",
            "550064      371\n",
            "550065      137\n",
            "550066      365\n",
            "550067      490\n",
            "Name: purchase, Length: 550068, dtype: int64\n",
            "0\n",
            "[ 8370 15200  1422 ...   135   123   613]\n"
          ]
        }
      ]
    },
    {
      "cell_type": "markdown",
      "source": [
        "Now all data is numerical. Time to handle missing data."
      ],
      "metadata": {
        "id": "MuIoVDko8x8N"
      }
    },
    {
      "cell_type": "markdown",
      "source": [
        "**product_category**"
      ],
      "metadata": {
        "id": "lmMXphXd3rMS"
      }
    },
    {
      "cell_type": "code",
      "source": [
        "dfBFriday[['product_category_1','product_category_2','product_category_3']].info()"
      ],
      "metadata": {
        "colab": {
          "base_uri": "https://localhost:8080/"
        },
        "id": "5APDoIJf3q0O",
        "outputId": "5d8ed5e0-cacf-4a1c-a23d-32394d8bfdfb"
      },
      "execution_count": 234,
      "outputs": [
        {
          "output_type": "stream",
          "name": "stdout",
          "text": [
            "<class 'pandas.core.frame.DataFrame'>\n",
            "RangeIndex: 550068 entries, 0 to 550067\n",
            "Data columns (total 3 columns):\n",
            " #   Column              Non-Null Count   Dtype  \n",
            "---  ------              --------------   -----  \n",
            " 0   product_category_1  550068 non-null  int64  \n",
            " 1   product_category_2  376430 non-null  float64\n",
            " 2   product_category_3  166821 non-null  float64\n",
            "dtypes: float64(2), int64(1)\n",
            "memory usage: 12.6 MB\n"
          ]
        }
      ]
    },
    {
      "cell_type": "code",
      "source": [
        "print(dfBFriday.product_category_1)\n",
        "print(dfBFriday.product_category_1.isna().sum())\n",
        "print(dfBFriday.product_category_1.unique())"
      ],
      "metadata": {
        "colab": {
          "base_uri": "https://localhost:8080/"
        },
        "id": "ACz9-Z_x38A6",
        "outputId": "c73be49e-8e1b-48ee-8a6e-e6563b096322"
      },
      "execution_count": 235,
      "outputs": [
        {
          "output_type": "stream",
          "name": "stdout",
          "text": [
            "0          3\n",
            "1          1\n",
            "2         12\n",
            "3         12\n",
            "4          8\n",
            "          ..\n",
            "550063    20\n",
            "550064    20\n",
            "550065    20\n",
            "550066    20\n",
            "550067    20\n",
            "Name: product_category_1, Length: 550068, dtype: int64\n",
            "0\n",
            "[ 3  1 12  8  5  4  2  6 14 11 13 15  7 16 18 10 17  9 20 19]\n"
          ]
        }
      ]
    },
    {
      "cell_type": "markdown",
      "source": [
        "product_category_1 doesn't necessitate to be handled. Because it doesn't contain any NaN value."
      ],
      "metadata": {
        "id": "tNTIewlW4AKA"
      }
    },
    {
      "cell_type": "code",
      "source": [
        "print(dfBFriday.product_category_2)\n",
        "print(dfBFriday.product_category_2.isna().sum())\n",
        "print(dfBFriday.product_category_2.unique())"
      ],
      "metadata": {
        "colab": {
          "base_uri": "https://localhost:8080/"
        },
        "id": "napc3Cxs4I6m",
        "outputId": "aae1a0b6-91a1-4296-a33a-a05bf77745ca"
      },
      "execution_count": 236,
      "outputs": [
        {
          "output_type": "stream",
          "name": "stdout",
          "text": [
            "0          NaN\n",
            "1          6.0\n",
            "2          NaN\n",
            "3         14.0\n",
            "4          NaN\n",
            "          ... \n",
            "550063     NaN\n",
            "550064     NaN\n",
            "550065     NaN\n",
            "550066     NaN\n",
            "550067     NaN\n",
            "Name: product_category_2, Length: 550068, dtype: float64\n",
            "173638\n",
            "[nan  6. 14.  2.  8. 15. 16. 11.  5.  3.  4. 12.  9. 10. 17. 13.  7. 18.]\n"
          ]
        }
      ]
    },
    {
      "cell_type": "markdown",
      "source": [
        "**product_category_2** includes `173638` NaN value."
      ],
      "metadata": {
        "id": "Kx4yn1rV4LY0"
      }
    },
    {
      "cell_type": "code",
      "source": [
        "print(dfBFriday.product_category_3)\n",
        "print(dfBFriday.product_category_3.isna().sum())\n",
        "print(dfBFriday.product_category_3.unique())"
      ],
      "metadata": {
        "colab": {
          "base_uri": "https://localhost:8080/"
        },
        "id": "6gpsrjTm4Rt6",
        "outputId": "fa512ef3-17f6-4de2-e6b3-9a0cc5579dfd"
      },
      "execution_count": 237,
      "outputs": [
        {
          "output_type": "stream",
          "name": "stdout",
          "text": [
            "0          NaN\n",
            "1         14.0\n",
            "2          NaN\n",
            "3          NaN\n",
            "4          NaN\n",
            "          ... \n",
            "550063     NaN\n",
            "550064     NaN\n",
            "550065     NaN\n",
            "550066     NaN\n",
            "550067     NaN\n",
            "Name: product_category_3, Length: 550068, dtype: float64\n",
            "383247\n",
            "[nan 14. 17.  5.  4. 16. 15.  8.  9. 13.  6. 12.  3. 18. 11. 10.]\n"
          ]
        }
      ]
    },
    {
      "cell_type": "markdown",
      "source": [
        "**product_category_3** includes `383247` NaN value."
      ],
      "metadata": {
        "id": "BOqTsL_x4V_l"
      }
    },
    {
      "cell_type": "markdown",
      "source": [
        "### Before handling missin data. I will check my current Data Frame **dfBFriday** and save it.\n",
        "\n"
      ],
      "metadata": {
        "id": "htfNPnp366EK"
      }
    },
    {
      "cell_type": "code",
      "source": [
        "dfBFriday.head()"
      ],
      "metadata": {
        "colab": {
          "base_uri": "https://localhost:8080/",
          "height": 226
        },
        "id": "sDmpejLK9huo",
        "outputId": "8ff1b11a-9fc3-43e4-8092-2c48b74a410a"
      },
      "execution_count": 238,
      "outputs": [
        {
          "output_type": "execute_result",
          "data": {
            "text/plain": [
              "   user_id  gender  age  occupation  city_category  \\\n",
              "0  1000001       0    0          10              0   \n",
              "1  1000001       0    0          10              0   \n",
              "2  1000001       0    0          10              0   \n",
              "3  1000001       0    0          10              0   \n",
              "4  1000002       1    6          16              2   \n",
              "\n",
              "   stay_in_current_city_years  marital_status  product_category_1  \\\n",
              "0                           2               0                   3   \n",
              "1                           2               0                   1   \n",
              "2                           2               0                  12   \n",
              "3                           2               0                  12   \n",
              "4                           4               0                   8   \n",
              "\n",
              "   product_category_2  product_category_3  purchase  \n",
              "0                 NaN                 NaN      8370  \n",
              "1                 6.0                14.0     15200  \n",
              "2                 NaN                 NaN      1422  \n",
              "3                14.0                 NaN      1057  \n",
              "4                 NaN                 NaN      7969  "
            ],
            "text/html": [
              "\n",
              "  <div id=\"df-20acadbf-a1a0-4857-a3c8-80dfdc41a085\" class=\"colab-df-container\">\n",
              "    <div>\n",
              "<style scoped>\n",
              "    .dataframe tbody tr th:only-of-type {\n",
              "        vertical-align: middle;\n",
              "    }\n",
              "\n",
              "    .dataframe tbody tr th {\n",
              "        vertical-align: top;\n",
              "    }\n",
              "\n",
              "    .dataframe thead th {\n",
              "        text-align: right;\n",
              "    }\n",
              "</style>\n",
              "<table border=\"1\" class=\"dataframe\">\n",
              "  <thead>\n",
              "    <tr style=\"text-align: right;\">\n",
              "      <th></th>\n",
              "      <th>user_id</th>\n",
              "      <th>gender</th>\n",
              "      <th>age</th>\n",
              "      <th>occupation</th>\n",
              "      <th>city_category</th>\n",
              "      <th>stay_in_current_city_years</th>\n",
              "      <th>marital_status</th>\n",
              "      <th>product_category_1</th>\n",
              "      <th>product_category_2</th>\n",
              "      <th>product_category_3</th>\n",
              "      <th>purchase</th>\n",
              "    </tr>\n",
              "  </thead>\n",
              "  <tbody>\n",
              "    <tr>\n",
              "      <th>0</th>\n",
              "      <td>1000001</td>\n",
              "      <td>0</td>\n",
              "      <td>0</td>\n",
              "      <td>10</td>\n",
              "      <td>0</td>\n",
              "      <td>2</td>\n",
              "      <td>0</td>\n",
              "      <td>3</td>\n",
              "      <td>NaN</td>\n",
              "      <td>NaN</td>\n",
              "      <td>8370</td>\n",
              "    </tr>\n",
              "    <tr>\n",
              "      <th>1</th>\n",
              "      <td>1000001</td>\n",
              "      <td>0</td>\n",
              "      <td>0</td>\n",
              "      <td>10</td>\n",
              "      <td>0</td>\n",
              "      <td>2</td>\n",
              "      <td>0</td>\n",
              "      <td>1</td>\n",
              "      <td>6.0</td>\n",
              "      <td>14.0</td>\n",
              "      <td>15200</td>\n",
              "    </tr>\n",
              "    <tr>\n",
              "      <th>2</th>\n",
              "      <td>1000001</td>\n",
              "      <td>0</td>\n",
              "      <td>0</td>\n",
              "      <td>10</td>\n",
              "      <td>0</td>\n",
              "      <td>2</td>\n",
              "      <td>0</td>\n",
              "      <td>12</td>\n",
              "      <td>NaN</td>\n",
              "      <td>NaN</td>\n",
              "      <td>1422</td>\n",
              "    </tr>\n",
              "    <tr>\n",
              "      <th>3</th>\n",
              "      <td>1000001</td>\n",
              "      <td>0</td>\n",
              "      <td>0</td>\n",
              "      <td>10</td>\n",
              "      <td>0</td>\n",
              "      <td>2</td>\n",
              "      <td>0</td>\n",
              "      <td>12</td>\n",
              "      <td>14.0</td>\n",
              "      <td>NaN</td>\n",
              "      <td>1057</td>\n",
              "    </tr>\n",
              "    <tr>\n",
              "      <th>4</th>\n",
              "      <td>1000002</td>\n",
              "      <td>1</td>\n",
              "      <td>6</td>\n",
              "      <td>16</td>\n",
              "      <td>2</td>\n",
              "      <td>4</td>\n",
              "      <td>0</td>\n",
              "      <td>8</td>\n",
              "      <td>NaN</td>\n",
              "      <td>NaN</td>\n",
              "      <td>7969</td>\n",
              "    </tr>\n",
              "  </tbody>\n",
              "</table>\n",
              "</div>\n",
              "    <div class=\"colab-df-buttons\">\n",
              "\n",
              "  <div class=\"colab-df-container\">\n",
              "    <button class=\"colab-df-convert\" onclick=\"convertToInteractive('df-20acadbf-a1a0-4857-a3c8-80dfdc41a085')\"\n",
              "            title=\"Convert this dataframe to an interactive table.\"\n",
              "            style=\"display:none;\">\n",
              "\n",
              "  <svg xmlns=\"http://www.w3.org/2000/svg\" height=\"24px\" viewBox=\"0 -960 960 960\">\n",
              "    <path d=\"M120-120v-720h720v720H120Zm60-500h600v-160H180v160Zm220 220h160v-160H400v160Zm0 220h160v-160H400v160ZM180-400h160v-160H180v160Zm440 0h160v-160H620v160ZM180-180h160v-160H180v160Zm440 0h160v-160H620v160Z\"/>\n",
              "  </svg>\n",
              "    </button>\n",
              "\n",
              "  <style>\n",
              "    .colab-df-container {\n",
              "      display:flex;\n",
              "      gap: 12px;\n",
              "    }\n",
              "\n",
              "    .colab-df-convert {\n",
              "      background-color: #E8F0FE;\n",
              "      border: none;\n",
              "      border-radius: 50%;\n",
              "      cursor: pointer;\n",
              "      display: none;\n",
              "      fill: #1967D2;\n",
              "      height: 32px;\n",
              "      padding: 0 0 0 0;\n",
              "      width: 32px;\n",
              "    }\n",
              "\n",
              "    .colab-df-convert:hover {\n",
              "      background-color: #E2EBFA;\n",
              "      box-shadow: 0px 1px 2px rgba(60, 64, 67, 0.3), 0px 1px 3px 1px rgba(60, 64, 67, 0.15);\n",
              "      fill: #174EA6;\n",
              "    }\n",
              "\n",
              "    .colab-df-buttons div {\n",
              "      margin-bottom: 4px;\n",
              "    }\n",
              "\n",
              "    [theme=dark] .colab-df-convert {\n",
              "      background-color: #3B4455;\n",
              "      fill: #D2E3FC;\n",
              "    }\n",
              "\n",
              "    [theme=dark] .colab-df-convert:hover {\n",
              "      background-color: #434B5C;\n",
              "      box-shadow: 0px 1px 3px 1px rgba(0, 0, 0, 0.15);\n",
              "      filter: drop-shadow(0px 1px 2px rgba(0, 0, 0, 0.3));\n",
              "      fill: #FFFFFF;\n",
              "    }\n",
              "  </style>\n",
              "\n",
              "    <script>\n",
              "      const buttonEl =\n",
              "        document.querySelector('#df-20acadbf-a1a0-4857-a3c8-80dfdc41a085 button.colab-df-convert');\n",
              "      buttonEl.style.display =\n",
              "        google.colab.kernel.accessAllowed ? 'block' : 'none';\n",
              "\n",
              "      async function convertToInteractive(key) {\n",
              "        const element = document.querySelector('#df-20acadbf-a1a0-4857-a3c8-80dfdc41a085');\n",
              "        const dataTable =\n",
              "          await google.colab.kernel.invokeFunction('convertToInteractive',\n",
              "                                                    [key], {});\n",
              "        if (!dataTable) return;\n",
              "\n",
              "        const docLinkHtml = 'Like what you see? Visit the ' +\n",
              "          '<a target=\"_blank\" href=https://colab.research.google.com/notebooks/data_table.ipynb>data table notebook</a>'\n",
              "          + ' to learn more about interactive tables.';\n",
              "        element.innerHTML = '';\n",
              "        dataTable['output_type'] = 'display_data';\n",
              "        await google.colab.output.renderOutput(dataTable, element);\n",
              "        const docLink = document.createElement('div');\n",
              "        docLink.innerHTML = docLinkHtml;\n",
              "        element.appendChild(docLink);\n",
              "      }\n",
              "    </script>\n",
              "  </div>\n",
              "\n",
              "\n",
              "<div id=\"df-da3680fb-e824-40fb-b7fd-0c836b1658e5\">\n",
              "  <button class=\"colab-df-quickchart\" onclick=\"quickchart('df-da3680fb-e824-40fb-b7fd-0c836b1658e5')\"\n",
              "            title=\"Suggest charts\"\n",
              "            style=\"display:none;\">\n",
              "\n",
              "<svg xmlns=\"http://www.w3.org/2000/svg\" height=\"24px\"viewBox=\"0 0 24 24\"\n",
              "     width=\"24px\">\n",
              "    <g>\n",
              "        <path d=\"M19 3H5c-1.1 0-2 .9-2 2v14c0 1.1.9 2 2 2h14c1.1 0 2-.9 2-2V5c0-1.1-.9-2-2-2zM9 17H7v-7h2v7zm4 0h-2V7h2v10zm4 0h-2v-4h2v4z\"/>\n",
              "    </g>\n",
              "</svg>\n",
              "  </button>\n",
              "\n",
              "<style>\n",
              "  .colab-df-quickchart {\n",
              "      --bg-color: #E8F0FE;\n",
              "      --fill-color: #1967D2;\n",
              "      --hover-bg-color: #E2EBFA;\n",
              "      --hover-fill-color: #174EA6;\n",
              "      --disabled-fill-color: #AAA;\n",
              "      --disabled-bg-color: #DDD;\n",
              "  }\n",
              "\n",
              "  [theme=dark] .colab-df-quickchart {\n",
              "      --bg-color: #3B4455;\n",
              "      --fill-color: #D2E3FC;\n",
              "      --hover-bg-color: #434B5C;\n",
              "      --hover-fill-color: #FFFFFF;\n",
              "      --disabled-bg-color: #3B4455;\n",
              "      --disabled-fill-color: #666;\n",
              "  }\n",
              "\n",
              "  .colab-df-quickchart {\n",
              "    background-color: var(--bg-color);\n",
              "    border: none;\n",
              "    border-radius: 50%;\n",
              "    cursor: pointer;\n",
              "    display: none;\n",
              "    fill: var(--fill-color);\n",
              "    height: 32px;\n",
              "    padding: 0;\n",
              "    width: 32px;\n",
              "  }\n",
              "\n",
              "  .colab-df-quickchart:hover {\n",
              "    background-color: var(--hover-bg-color);\n",
              "    box-shadow: 0 1px 2px rgba(60, 64, 67, 0.3), 0 1px 3px 1px rgba(60, 64, 67, 0.15);\n",
              "    fill: var(--button-hover-fill-color);\n",
              "  }\n",
              "\n",
              "  .colab-df-quickchart-complete:disabled,\n",
              "  .colab-df-quickchart-complete:disabled:hover {\n",
              "    background-color: var(--disabled-bg-color);\n",
              "    fill: var(--disabled-fill-color);\n",
              "    box-shadow: none;\n",
              "  }\n",
              "\n",
              "  .colab-df-spinner {\n",
              "    border: 2px solid var(--fill-color);\n",
              "    border-color: transparent;\n",
              "    border-bottom-color: var(--fill-color);\n",
              "    animation:\n",
              "      spin 1s steps(1) infinite;\n",
              "  }\n",
              "\n",
              "  @keyframes spin {\n",
              "    0% {\n",
              "      border-color: transparent;\n",
              "      border-bottom-color: var(--fill-color);\n",
              "      border-left-color: var(--fill-color);\n",
              "    }\n",
              "    20% {\n",
              "      border-color: transparent;\n",
              "      border-left-color: var(--fill-color);\n",
              "      border-top-color: var(--fill-color);\n",
              "    }\n",
              "    30% {\n",
              "      border-color: transparent;\n",
              "      border-left-color: var(--fill-color);\n",
              "      border-top-color: var(--fill-color);\n",
              "      border-right-color: var(--fill-color);\n",
              "    }\n",
              "    40% {\n",
              "      border-color: transparent;\n",
              "      border-right-color: var(--fill-color);\n",
              "      border-top-color: var(--fill-color);\n",
              "    }\n",
              "    60% {\n",
              "      border-color: transparent;\n",
              "      border-right-color: var(--fill-color);\n",
              "    }\n",
              "    80% {\n",
              "      border-color: transparent;\n",
              "      border-right-color: var(--fill-color);\n",
              "      border-bottom-color: var(--fill-color);\n",
              "    }\n",
              "    90% {\n",
              "      border-color: transparent;\n",
              "      border-bottom-color: var(--fill-color);\n",
              "    }\n",
              "  }\n",
              "</style>\n",
              "\n",
              "  <script>\n",
              "    async function quickchart(key) {\n",
              "      const quickchartButtonEl =\n",
              "        document.querySelector('#' + key + ' button');\n",
              "      quickchartButtonEl.disabled = true;  // To prevent multiple clicks.\n",
              "      quickchartButtonEl.classList.add('colab-df-spinner');\n",
              "      try {\n",
              "        const charts = await google.colab.kernel.invokeFunction(\n",
              "            'suggestCharts', [key], {});\n",
              "      } catch (error) {\n",
              "        console.error('Error during call to suggestCharts:', error);\n",
              "      }\n",
              "      quickchartButtonEl.classList.remove('colab-df-spinner');\n",
              "      quickchartButtonEl.classList.add('colab-df-quickchart-complete');\n",
              "    }\n",
              "    (() => {\n",
              "      let quickchartButtonEl =\n",
              "        document.querySelector('#df-da3680fb-e824-40fb-b7fd-0c836b1658e5 button');\n",
              "      quickchartButtonEl.style.display =\n",
              "        google.colab.kernel.accessAllowed ? 'block' : 'none';\n",
              "    })();\n",
              "  </script>\n",
              "</div>\n",
              "\n",
              "    </div>\n",
              "  </div>\n"
            ],
            "application/vnd.google.colaboratory.intrinsic+json": {
              "type": "dataframe",
              "variable_name": "dfBFriday"
            }
          },
          "metadata": {},
          "execution_count": 238
        }
      ]
    },
    {
      "cell_type": "code",
      "source": [
        "dfBFriday.to_csv('/content/drive/MyDrive/Colab Notebooks/data/Black_Friday_Numericalwithmissing.csv')"
      ],
      "metadata": {
        "id": "jIIoRGiz9QPT"
      },
      "execution_count": 239,
      "outputs": []
    },
    {
      "cell_type": "markdown",
      "source": [
        "# Handling Missing Data"
      ],
      "metadata": {
        "id": "j0gwFb_09tOQ"
      }
    },
    {
      "cell_type": "code",
      "source": [
        "y = dfBFriday.loc[:,['purchase']].values.ravel()\n",
        "X = dfBFriday.drop(['purchase'],axis=1)"
      ],
      "metadata": {
        "id": "LNl3gQ1A-cPa"
      },
      "execution_count": 240,
      "outputs": []
    },
    {
      "cell_type": "code",
      "source": [
        "y.shape"
      ],
      "metadata": {
        "colab": {
          "base_uri": "https://localhost:8080/"
        },
        "id": "dnpplQqz-lOb",
        "outputId": "a1ffb872-5656-4831-fc60-3e53cc905de1"
      },
      "execution_count": 241,
      "outputs": [
        {
          "output_type": "execute_result",
          "data": {
            "text/plain": [
              "(550068,)"
            ]
          },
          "metadata": {},
          "execution_count": 241
        }
      ]
    },
    {
      "cell_type": "code",
      "source": [
        "X.shape"
      ],
      "metadata": {
        "colab": {
          "base_uri": "https://localhost:8080/"
        },
        "id": "m5cb06bD-myF",
        "outputId": "7fdeabce-00f3-43da-a6d4-5735632605c8"
      },
      "execution_count": 242,
      "outputs": [
        {
          "output_type": "execute_result",
          "data": {
            "text/plain": [
              "(550068, 10)"
            ]
          },
          "metadata": {},
          "execution_count": 242
        }
      ]
    },
    {
      "cell_type": "code",
      "source": [
        "import sklearn\n",
        "from sklearn.model_selection import train_test_split\n",
        "from sklearn.metrics import mean_absolute_error\n",
        "\n",
        "X_train, X_test, y_train, y_test = train_test_split(X,y,train_size=0.8, test_size=0.2,random_state=1)"
      ],
      "metadata": {
        "id": "bI1NjLUI_Zkk"
      },
      "execution_count": 243,
      "outputs": []
    },
    {
      "cell_type": "code",
      "source": [
        "from sklearn.ensemble import RandomForestRegressor\n",
        "from sklearn.metrics import mean_absolute_error, mean_squared_error, r2_score\n",
        "\n",
        "# Function for building and scoring Random Forest models\n",
        "def get_random_forest_scores(X_train, X_test, y_train, y_test):\n",
        "    mdlRfsMlb = RandomForestRegressor(random_state=1)\n",
        "\n",
        "    mdlRfsMlb.fit(X_train, y_train)\n",
        "\n",
        "    y_tst_prd = mdlRfsMlb.predict(X_test)\n",
        "\n",
        "    mae = mean_absolute_error(y_test, y_tst_prd)\n",
        "    mse = mean_squared_error(y_test, y_tst_prd)\n",
        "    r2 = r2_score(y_test, y_tst_prd)\n",
        "\n",
        "    return {\n",
        "        \"MAE\": mae,\n",
        "        \"MSE\": mse,\n",
        "        \"R2\": r2\n",
        "    }\n"
      ],
      "metadata": {
        "id": "zCRXok_0_tje"
      },
      "execution_count": 244,
      "outputs": []
    },
    {
      "cell_type": "markdown",
      "source": [
        "Okey while analyzing. Whether it is a good estimate or not knowing distrubition of purchase is necessary. Therefore I will analyze \"purchase\" column a little bit more."
      ],
      "metadata": {
        "id": "bg2_-NdFCGS_"
      }
    },
    {
      "cell_type": "code",
      "source": [
        "purchase_mean = dfBFriday['purchase'].mean()\n",
        "purchase_median = dfBFriday['purchase'].median()\n",
        "purchase_variance = dfBFriday['purchase'].var()\n",
        "purchase_std = dfBFriday['purchase'].std()\n",
        "\n",
        "purchase_distribution_stats = {\n",
        "    \"Mean\": purchase_mean,\n",
        "    \"Median\": purchase_median,\n",
        "    \"Variance\": purchase_variance,\n",
        "    \"Standard Deviation\": purchase_std\n",
        "}\n",
        "\n",
        "purchase_distribution_stats\n"
      ],
      "metadata": {
        "colab": {
          "base_uri": "https://localhost:8080/"
        },
        "id": "jikZWxkWCPvn",
        "outputId": "382eb2b6-b394-47d8-821f-4768f7549564"
      },
      "execution_count": 245,
      "outputs": [
        {
          "output_type": "execute_result",
          "data": {
            "text/plain": [
              "{'Mean': 9263.968712959126,\n",
              " 'Median': 8047.0,\n",
              " 'Variance': 25231185.950597923,\n",
              " 'Standard Deviation': 5023.065393820582}"
            ]
          },
          "metadata": {},
          "execution_count": 245
        }
      ]
    },
    {
      "cell_type": "code",
      "source": [
        "import matplotlib.pyplot as plt\n",
        "\n",
        "plt.figure(figsize=(10, 6))\n",
        "plt.hist(dfBFriday['purchase'], bins=50, edgecolor='k', alpha=0.7)\n",
        "plt.title('Distribution of Purchase Amounts')\n",
        "plt.xlabel('Purchase Amount')\n",
        "plt.ylabel('Frequency')\n",
        "plt.grid(True)\n",
        "plt.show()"
      ],
      "metadata": {
        "colab": {
          "base_uri": "https://localhost:8080/",
          "height": 564
        },
        "id": "T8W7O-e3C360",
        "outputId": "69674286-7b30-48dd-8b2a-a47bcf959688"
      },
      "execution_count": 246,
      "outputs": [
        {
          "output_type": "display_data",
          "data": {
            "text/plain": [
              "<Figure size 1000x600 with 1 Axes>"
            ],
            "image/png": "[encoded data removed]"
          },
          "metadata": {}
        }
      ]
    },
    {
      "cell_type": "markdown",
      "source": [
        "Also, don't forget R-Squared is just the MSE divided by the MSE of the prediction of the mean, which is a constant. So MSE and R-Squared are proportional to each other and the ranking will never be different between these two measures. Therefore while ranking approaches, I will check R-Squared scores."
      ],
      "metadata": {
        "id": "bzKChZ2gDOKi"
      }
    },
    {
      "cell_type": "markdown",
      "source": [
        "#### Approach 1. Drop columns with missing values\n",
        "It is not optional but I'm doing just to try."
      ],
      "metadata": {
        "id": "W_4REWsRAMCE"
      }
    },
    {
      "cell_type": "code",
      "source": [
        "cols_num_null = [col for col in X_train.columns\n",
        "    if X_train[col].isnull().any()]\n",
        "X_train_nulldropped_app1 = X_train.drop(cols_num_null, axis=1)\n",
        "X_test_nulldropped_app1 = X_test.drop(cols_num_null, axis=1)"
      ],
      "metadata": {
        "id": "p7J8qJYLAQYZ"
      },
      "execution_count": 247,
      "outputs": []
    },
    {
      "cell_type": "code",
      "source": [
        "# Impute missing values in y_train (replace NaN with the mean)\n",
        "from sklearn.impute import SimpleImputer\n",
        "imputer = SimpleImputer(strategy='mean')\n",
        "y_train_imputed = imputer.fit_transform(y_train.reshape(-1, 1)).ravel()  # Reshape for the imputer, then flatten\n",
        "y_test_imputed = imputer.fit_transform(y_test.reshape(-1, 1)).ravel()\n",
        "\n",
        "print('Value from Approach 1 (Drop features with missing values):')\n",
        "print(get_random_forest_scores(X_train_nulldropped_app1, X_test_nulldropped_app1, y_train_imputed, y_test_imputed)) # Use imputed y_train and y_test"
      ],
      "metadata": {
        "colab": {
          "base_uri": "https://localhost:8080/"
        },
        "id": "_sdywzx1A3Dp",
        "outputId": "dd750c69-c951-471a-e2cd-ceda4ffab0ec"
      },
      "execution_count": 248,
      "outputs": [
        {
          "output_type": "stream",
          "name": "stdout",
          "text": [
            "Value from Approach 1 (Drop features with missing values):\n",
            "{'MAE': 2086.9821853547915, 'MSE': 8248959.947052138, 'R2': 0.6742735411012963}\n"
          ]
        }
      ]
    },
    {
      "cell_type": "markdown",
      "source": [
        "#### Approach 2. Fill missing values by Imputation\n",
        "**Imputation** fills in the missing values with some number. For instance, we can fill in the mean value along each column."
      ],
      "metadata": {
        "id": "gaBs6T4XDhLI"
      }
    },
    {
      "cell_type": "code",
      "source": [
        "# Impute missing values in y_train and y_test (replace NaN with the mean)\n",
        "from sklearn.impute import SimpleImputer\n",
        "imputer = SimpleImputer(strategy='mean')\n",
        "y_train = imputer.fit_transform(y_train.reshape(-1, 1)).ravel()\n",
        "y_test = imputer.fit_transform(y_test.reshape(-1, 1)).ravel()\n",
        "\n",
        "# Replace with specific value (0, bfill, ffill)\n",
        "Xnum_train_repnull = X_train.fillna(method = 'ffill')\n",
        "Xnum_test_repnull = X_test.fillna(method = 'ffill')\n",
        "\n",
        "# Add this line to fill any remaining NaNs with 0\n",
        "Xnum_train_repnull = Xnum_train_repnull.fillna(0)\n",
        "Xnum_test_repnull = Xnum_test_repnull.fillna(0)\n",
        "\n",
        "print('MAE from Approach 2 (Replace missing values with forward fill):')\n",
        "print(get_random_forest_scores(Xnum_train_repnull, Xnum_test_repnull, y_train, y_test)) # Pass the imputed y_train and y_test"
      ],
      "metadata": {
        "colab": {
          "base_uri": "https://localhost:8080/"
        },
        "id": "ik7F9-l1Dj6q",
        "outputId": "678673a1-e7ee-4654-cb35-c4716476513b"
      },
      "execution_count": 249,
      "outputs": [
        {
          "output_type": "stream",
          "name": "stdout",
          "text": [
            "MAE from Approach 2 (Replace missing values with forward fill):\n",
            "{'MAE': 2218.8003691716895, 'MSE': 9205612.979395544, 'R2': 0.6364982086205899}\n"
          ]
        }
      ]
    },
    {
      "cell_type": "code",
      "source": [
        "# Replace with mean value\n",
        "Xnum_train_repnull = X_train.fillna(X_train.mean())\n",
        "Xnum_test_repnull = X_test.fillna(X_test.mean())\n",
        "\n",
        "print('MAE from Approach 2 (Replace missing values with mean):')\n",
        "print(get_random_forest_scores(Xnum_train_repnull, Xnum_test_repnull, y_train, y_test))"
      ],
      "metadata": {
        "colab": {
          "base_uri": "https://localhost:8080/"
        },
        "id": "SLOFJw9YENov",
        "outputId": "2d0e0131-c20c-4290-8a13-adc42dd6a3cb"
      },
      "execution_count": 250,
      "outputs": [
        {
          "output_type": "stream",
          "name": "stdout",
          "text": [
            "MAE from Approach 2 (Replace missing values with mean):\n",
            "{'MAE': 2154.1957010239944, 'MSE': 8856132.997534517, 'R2': 0.6502981152364846}\n"
          ]
        }
      ]
    },
    {
      "cell_type": "markdown",
      "source": [
        "Interestingly, instead of filling the data with mean value just dropping NaN values gave us better R2-score. We observed our variance is high ` 'Variance': 25231185.950597923,` it may be due to it. Therefore, I will now apply another approach."
      ],
      "metadata": {
        "id": "pAkB4Y-wGF04"
      }
    },
    {
      "cell_type": "markdown",
      "source": [
        "#### Approach 3. Look at the other columns and try to figure out relationship within NaN values at other columns."
      ],
      "metadata": {
        "id": "u257Soo9GnaJ"
      }
    },
    {
      "cell_type": "code",
      "source": [
        "age_2 = dfBFriday.groupby('age')['product_category_2'].agg(pd.Series.mode)\n",
        "age_3 = dfBFriday.groupby('age')['product_category_3'].agg(pd.Series.mode)\n",
        "occupation_2 = dfBFriday.groupby('occupation')['product_category_2'].agg(pd.Series.mode)\n",
        "occupation_3 = dfBFriday.groupby('occupation')['product_category_3'].agg(pd.Series.mode)\n",
        "gender_2 = dfBFriday.groupby('gender')['product_category_2'].agg(pd.Series.mode)\n",
        "gender_3 = dfBFriday.groupby('gender')['product_category_3'].agg(pd.Series.mode)\n",
        "#The mode is the value that appears most often. There can be multiple modes.\n",
        "#The purpose of these lines is to find the most frequently occurring value (mode)\n",
        "#in the 'product_category_2' and 'product_category_3' columns for each unique value '''"
      ],
      "metadata": {
        "id": "pRTemEgEGx1o"
      },
      "execution_count": 251,
      "outputs": []
    },
    {
      "cell_type": "code",
      "source": [
        "age_2"
      ],
      "metadata": {
        "id": "-rSu1EDMHcFJ",
        "colab": {
          "base_uri": "https://localhost:8080/"
        },
        "outputId": "a718b5b7-c7ba-4dff-f72c-e7752b9602c0"
      },
      "execution_count": 252,
      "outputs": [
        {
          "output_type": "execute_result",
          "data": {
            "text/plain": [
              "age\n",
              "0    4.0\n",
              "1    8.0\n",
              "2    8.0\n",
              "3    8.0\n",
              "4    8.0\n",
              "5    8.0\n",
              "6    8.0\n",
              "Name: product_category_2, dtype: float64"
            ]
          },
          "metadata": {},
          "execution_count": 252
        }
      ]
    },
    {
      "cell_type": "markdown",
      "source": [
        "I labeled column \"age\" therefore this output simply same thing as:\n",
        "\n",
        "0-17     4.0 <br />\n",
        "18-25    8.0 <br />\n",
        "26-35    8.0 <br />\n",
        "36-45    8.0 <br />\n",
        "46-50    8.0 <br />\n",
        "51-55    8.0 <br />\n",
        "55+      8.0 <br />"
      ],
      "metadata": {
        "id": "fiPHVSRfINPr"
      }
    },
    {
      "cell_type": "code",
      "source": [
        "dfBFriday[\"product_category_2\"].head()"
      ],
      "metadata": {
        "id": "v5t8RJGEIXB6",
        "colab": {
          "base_uri": "https://localhost:8080/"
        },
        "outputId": "85126686-9dcc-4185-c906-309d23947b12"
      },
      "execution_count": 253,
      "outputs": [
        {
          "output_type": "execute_result",
          "data": {
            "text/plain": [
              "0     NaN\n",
              "1     6.0\n",
              "2     NaN\n",
              "3    14.0\n",
              "4     NaN\n",
              "Name: product_category_2, dtype: float64"
            ]
          },
          "metadata": {},
          "execution_count": 253
        }
      ]
    },
    {
      "cell_type": "markdown",
      "source": [
        "For example: if age in category 1 mode of most occuring value of product_category_2 is 8."
      ],
      "metadata": {
        "id": "cZfm03FFIwrc"
      }
    },
    {
      "cell_type": "code",
      "source": [
        "plt.figure(figsize=(18,10))\n",
        "plt.subplots_adjust(left=0.1,\n",
        "                    bottom=0.1,\n",
        "                    right=0.9,\n",
        "                    top=0.9,\n",
        "                    wspace=0.4,\n",
        "                    hspace=0.4)\n",
        "plt.subplot(2,3,1)\n",
        "age_2.plot(kind='bar',title=\"age_vs_product_category_2\")\n",
        "plt.subplot(2,3,2)\n",
        "age_3.plot(kind='bar',title=\"age_vs_product_category_3\")\n",
        "plt.subplot(2,3,3)\n",
        "occupation_2.plot(kind='bar',title=\"occupation_vs_product_category_2\")\n",
        "plt.subplot(2,3,4)\n",
        "occupation_3.plot(kind='bar',title=\"occupation_vs_product_category_3\")\n",
        "plt.subplot(2,3,5)\n",
        "gender_2.plot(kind='bar',title=\"gender_vs_product_category_2\")\n",
        "plt.subplot(2,3,6)\n",
        "gender_3.plot(kind='bar',title=\"gender_vs_product_category_3\")\n",
        "plt.show()"
      ],
      "metadata": {
        "id": "DtDfKVHQI8vR",
        "colab": {
          "base_uri": "https://localhost:8080/",
          "height": 667
        },
        "outputId": "74238148-f44a-47e6-911f-1e09923355dc"
      },
      "execution_count": 254,
      "outputs": [
        {
          "output_type": "display_data",
          "data": {
            "text/plain": [
              "<Figure size 1800x1000 with 6 Axes>"
            ],
            "image/png": "[encoded data removed]"
          },
          "metadata": {}
        }
      ]
    },
    {
      "cell_type": "markdown",
      "source": [
        "interestingly especially in terms of occupation and age categories of these columns distributed among product_categories regularly."
      ],
      "metadata": {
        "id": "h_PLcdTEJiOi"
      }
    },
    {
      "cell_type": "code",
      "source": [
        "def fill_nan_category(category_column, dframe):\n",
        "    x=dframe.groupby('occupation')[category_column].agg(pd.Series.mode)\n",
        "    for i,j in zip(x.index,x):\n",
        "        dframe.loc[dframe['occupation']==i,category_column]=dframe.loc[dframe['occupation']==i,category_column].fillna(j)"
      ],
      "metadata": {
        "id": "Il2d23nfJy2F"
      },
      "execution_count": 255,
      "outputs": []
    },
    {
      "cell_type": "code",
      "source": [
        "dfBFriday_copy = dfBFriday.copy()\n",
        "fill_nan_category('product_category_2', dfBFriday_copy)\n",
        "fill_nan_category('product_category_3', dfBFriday_copy)\n",
        "dfBFriday_copy.isna().sum()"
      ],
      "metadata": {
        "colab": {
          "base_uri": "https://localhost:8080/"
        },
        "id": "MLJY6z9tKBeR",
        "outputId": "bc1d47c7-d1d1-41d9-cc46-77f0f72010c7"
      },
      "execution_count": 256,
      "outputs": [
        {
          "output_type": "execute_result",
          "data": {
            "text/plain": [
              "user_id                       0\n",
              "gender                        0\n",
              "age                           0\n",
              "occupation                    0\n",
              "city_category                 0\n",
              "stay_in_current_city_years    0\n",
              "marital_status                0\n",
              "product_category_1            0\n",
              "product_category_2            0\n",
              "product_category_3            0\n",
              "purchase                      0\n",
              "dtype: int64"
            ]
          },
          "metadata": {},
          "execution_count": 256
        }
      ]
    },
    {
      "cell_type": "code",
      "source": [
        "y_copy = dfBFriday_copy.loc[:,['purchase']].values.ravel()\n",
        "X_copy= dfBFriday_copy.drop(['purchase'],axis=1)\n",
        "\n",
        "X_train_cop, X_test_cop, y_train_cop, y_test_cop = train_test_split(X_copy,y_copy,train_size=0.8, test_size=0.2,random_state=1)\n",
        "\n",
        "print('Scores from Approach 3')\n",
        "print(get_random_forest_scores(X_train_cop, X_test_cop, y_train_cop, y_test_cop))"
      ],
      "metadata": {
        "colab": {
          "base_uri": "https://localhost:8080/"
        },
        "id": "Grtiyd8_Ka0z",
        "outputId": "19975457-98da-47c3-abe8-0a0e23a275e7"
      },
      "execution_count": 257,
      "outputs": [
        {
          "output_type": "stream",
          "name": "stdout",
          "text": [
            "Scores from Approach 3\n",
            "{'MAE': 2151.4821368939524, 'MSE': 8845892.431825804, 'R2': 0.650702484178367}\n"
          ]
        }
      ]
    },
    {
      "cell_type": "markdown",
      "source": [
        "It is better than replacing missing values with mean but worse than dropping missing values. Again it is probably due to high variance. What have I done here is similar to replacing with mean value. But it would be better if histograms are not seemingly same size for every occupation category. Since, it is Approach 3's value very close to replacing with mean."
      ],
      "metadata": {
        "id": "4zXRdCy3Qveb"
      }
    },
    {
      "cell_type": "markdown",
      "source": [
        "# Build Gradient Boosted Tree Model"
      ],
      "metadata": {
        "id": "vKqklVPpOUxB"
      }
    },
    {
      "cell_type": "code",
      "source": [
        "from xgboost import XGBRegressor\n",
        "from sklearn.metrics import mean_absolute_error, mean_squared_error, r2_score\n",
        "\n",
        "\n",
        "Xle_train = X_train.copy()\n",
        "Xle_test = X_test.copy()\n",
        "\n",
        "mdlXgbMlb = XGBRegressor()\n",
        "mdlXgbMlb.fit(Xle_train, y_train)\n",
        "\n",
        "y_tst_prd = mdlXgbMlb.predict(Xle_test)\n",
        "\n",
        "mae = mean_absolute_error(y_test, y_tst_prd)\n",
        "mse = mean_squared_error(y_test, y_tst_prd)\n",
        "r2 = r2_score(y_test, y_tst_prd)\n",
        "\n",
        "print(\"MAE:{} MSE:{} R2:{}\".format(mae, mse, r2))"
      ],
      "metadata": {
        "colab": {
          "base_uri": "https://localhost:8080/"
        },
        "id": "7fAquxyVPT8k",
        "outputId": "b3b97666-6307-467a-a327-df15f0940309"
      },
      "execution_count": 258,
      "outputs": [
        {
          "output_type": "stream",
          "name": "stdout",
          "text": [
            "MAE:2088.6112097944483 MSE:7862981.408350273 R2:0.6895146652465509\n"
          ]
        }
      ]
    },
    {
      "cell_type": "markdown",
      "source": [
        "Gradient Boosting gave us the best model."
      ],
      "metadata": {
        "id": "FbHxAQ5GRlGj"
      }
    },
    {
      "cell_type": "markdown",
      "source": [
        "### Tuning Values"
      ],
      "metadata": {
        "id": "c8CZ-TrcRwhp"
      }
    },
    {
      "cell_type": "code",
      "source": [
        "mdlXgbMlb = XGBRegressor(n_estimators=10000, learning_rate=0.01, max_depth=5)\n",
        "mdlXgbMlb.fit(Xle_train, y_train)\n",
        "y_test_pred = mdlXgbMlb.predict(Xle_test)\n",
        "\n",
        "mae = mean_absolute_error(y_test, y_tst_prd)\n",
        "mse = mean_squared_error(y_test, y_tst_prd)\n",
        "r2 = r2_score(y_test, y_tst_prd)\n",
        "\n",
        "print(\"MAE:{} MSE:{} R2:{}\".format(mae, mse, r2))"
      ],
      "metadata": {
        "colab": {
          "base_uri": "https://localhost:8080/"
        },
        "id": "UjmAjkqARyAM",
        "outputId": "57cc032e-ca89-45ea-f5f5-a58e3a5b6f44"
      },
      "execution_count": 259,
      "outputs": [
        {
          "output_type": "stream",
          "name": "stdout",
          "text": [
            "MAE:2088.6112097944483 MSE:7862981.408350273 R2:0.6895146652465509\n"
          ]
        }
      ]
    },
    {
      "cell_type": "markdown",
      "source": [
        "This is same as the value without Tuning."
      ],
      "metadata": {
        "id": "n276A_hlh2fV"
      }
    }
  ]
}